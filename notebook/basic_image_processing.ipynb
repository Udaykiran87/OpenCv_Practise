{
 "cells": [
  {
   "cell_type": "code",
   "execution_count": 1,
   "id": "d9a1adcc",
   "metadata": {},
   "outputs": [],
   "source": [
    "import cv2\n",
    "import matplotlib.pyplot as plt\n",
    "import numpy as np\n",
    "import os\n",
    "from pathlib import Path"
   ]
  },
  {
   "cell_type": "code",
   "execution_count": 10,
   "id": "e669f18c",
   "metadata": {},
   "outputs": [],
   "source": [
    "filepath = str(Path(\"../images/Taj-Mahal.jpg\"))\n",
    "img = cv2.imread(filepath)  ## color name\n",
    "cv2.imshow(\"RGB\", img)\n",
    "\n",
    "cv2.waitKey(0)\n",
    "cv2.destroyAllWindows()\n"
   ]
  },
  {
   "cell_type": "code",
   "execution_count": 21,
   "id": "3647501e",
   "metadata": {},
   "outputs": [],
   "source": [
    "filepath = str(Path(\"../images/Taj-Mahal.jpg\"))\n",
    "rgb_img = cv2.imread(filepath)  ## color name\n",
    "cv2.imshow(\"RGB\", img)\n",
    "\n",
    "gray_img = cv2.imread(filepath, 0) ## gray scale image\n",
    "cv2.imshow(\"gray\", img)\n",
    "\n",
    "cv2.waitKey(0)\n",
    "cv2.destroyAllWindows()"
   ]
  },
  {
   "cell_type": "code",
   "execution_count": 15,
   "id": "f774e4b1",
   "metadata": {},
   "outputs": [
    {
     "data": {
      "text/plain": [
       "True"
      ]
     },
     "execution_count": 15,
     "metadata": {},
     "output_type": "execute_result"
    }
   ],
   "source": [
    "cv2.imwrite(\"gray_scale.jpg\", gray_img)"
   ]
  },
  {
   "cell_type": "code",
   "execution_count": 17,
   "id": "170c49be",
   "metadata": {},
   "outputs": [],
   "source": [
    "plt.show(\"gray_scale.jpg\")"
   ]
  },
  {
   "cell_type": "markdown",
   "id": "d0791870",
   "metadata": {},
   "source": [
    "## Draw the shapes"
   ]
  },
  {
   "cell_type": "code",
   "execution_count": 22,
   "id": "745153b7",
   "metadata": {},
   "outputs": [],
   "source": [
    "rectangle_draw = cv2.rectangle(rgb_img,(384,0),(510,128),(0,255,0),3)\n",
    "cv2.imshow(\"rectangle_draw\", rectangle_draw)\n",
    "cv2.waitKey(0)\n",
    "cv2.destroyAllWindows()\n"
   ]
  },
  {
   "cell_type": "code",
   "execution_count": 24,
   "id": "13ed8d72",
   "metadata": {},
   "outputs": [],
   "source": [
    "font = cv2.FONT_ITALIC\n",
    "# org\n",
    "org = (50, 50)\n",
    "  \n",
    "# fontScale\n",
    "fontScale = 1\n",
    "   \n",
    "# Blue color in BGR\n",
    "color = (255, 0, 0)\n",
    "  \n",
    "# Line thickness of 2 px\n",
    "thickness = 2\n",
    "rectangle_draw = cv2.rectangle(rgb_img,(384,0),(510,128),(0,255,0),3)\n",
    "cv2.putText(rectangle_draw, 'Rectangle_putetxt', org, font, fontScale, color, thickness, font)\n",
    "cv2.imshow(\"rectangle_draw\", rectangle_draw)\n",
    "cv2.waitKey(0)\n",
    "cv2.destroyAllWindows()\n"
   ]
  },
  {
   "cell_type": "code",
   "execution_count": 28,
   "id": "3507ac6f",
   "metadata": {},
   "outputs": [],
   "source": [
    "font = cv2.FONT_ITALIC\n",
    "# Center coordinates\n",
    "center_coordinates = (120, 100)\n",
    " \n",
    "# Radius of circle\n",
    "radius = 30\n",
    "  \n",
    "# Red color in BGR\n",
    "color = (0, 0, 255)\n",
    "  \n",
    "# Line thickness of -1 px\n",
    "thickness = -1\n",
    "  \n",
    "# Using cv2.circle() method\n",
    "# Draw a circle of red color of thickness -1 px\n",
    "\n",
    "\n",
    "circle_draw = cv2.circle(rgb_img, center_coordinates, radius, color, thickness)\n",
    "cv2.imshow(\"rectangle_draw\", circle_draw)\n",
    "cv2.waitKey(0)\n",
    "cv2.destroyAllWindows()"
   ]
  },
  {
   "cell_type": "code",
   "execution_count": null,
   "id": "65c017e6",
   "metadata": {},
   "outputs": [],
   "source": []
  }
 ],
 "metadata": {
  "kernelspec": {
   "display_name": "Python 3 (ipykernel)",
   "language": "python",
   "name": "python3"
  },
  "language_info": {
   "codemirror_mode": {
    "name": "ipython",
    "version": 3
   },
   "file_extension": ".py",
   "mimetype": "text/x-python",
   "name": "python",
   "nbconvert_exporter": "python",
   "pygments_lexer": "ipython3",
   "version": "3.7.13"
  }
 },
 "nbformat": 4,
 "nbformat_minor": 5
}
