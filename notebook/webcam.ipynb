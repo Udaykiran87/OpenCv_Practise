{
 "cells": [
  {
   "cell_type": "code",
   "execution_count": 6,
   "id": "f51e3186",
   "metadata": {},
   "outputs": [],
   "source": [
    "import cv2\n",
    "import matplotlib.pyplot as plt\n",
    "import numpy as np\n",
    "import os\n",
    "from pathlib import Path"
   ]
  },
  {
   "cell_type": "code",
   "execution_count": 13,
   "id": "9d1e3f18",
   "metadata": {},
   "outputs": [],
   "source": [
    "cam_idx = 0\n",
    "cap = cv2.VideoCapture(cam_idx)\n",
    "sample_class = 'Uday'\n",
    "img_idx = 0\n",
    "os.makedirs(f\"samples/{sample_class}\", exist_ok=True)\n",
    "while True:\n",
    "    # Capturing the frame\n",
    "    x, frame = cap.read()\n",
    "    \n",
    "    # fontScale\n",
    "    fontScale = 1\n",
    "\n",
    "    # Blue color in BGR\n",
    "    color = (255, 0, 0)\n",
    "\n",
    "    # Line thickness of 2 px\n",
    "    thickness = 2    \n",
    "    \n",
    "    # put text on image\n",
    "    font = cv2.FONT_ITALIC\n",
    "    predicted_class = \"Uday\" # << from your model\n",
    "#     print(x)\n",
    "#     print(frame.shape)\n",
    "    org = (frame.shape[0]//2,frame.shape[1]//2)\n",
    "    cv2.putText(frame, sample_class, org, font, fontScale, color, thickness, font)\n",
    "    cv2.imwrite(f\"samples/{sample_class}/sample_{img_idx}.jpg\",frame)\n",
    "    cv2.imshow('webcam',frame)\n",
    "    img_idx +=1\n",
    "    \n",
    "    if cv2.waitKey(1) & 0xFF == ord('q'):\n",
    "        break\n",
    "        \n",
    "cap.release()\n",
    "cv2.destroyAllWindows()"
   ]
  },
  {
   "cell_type": "markdown",
   "id": "6c666968",
   "metadata": {},
   "source": [
    "## Save Video"
   ]
  },
  {
   "cell_type": "code",
   "execution_count": 16,
   "id": "bfbcb19a",
   "metadata": {},
   "outputs": [],
   "source": [
    "cam_idx = 0\n",
    "cap = cv2.VideoCapture(cam_idx)\n",
    "\n",
    "## define the codec and create video writer object\n",
    "fourcc = cv2.VideoWriter_fourcc(*\"XVID\")\n",
    "out = cv2.VideoWriter(\"sample.avi\", fourcc, 20.0, (640, 480))\n",
    "\n",
    "\n",
    "while (cap.isOpened()):\n",
    "    # Capturing the frame\n",
    "    ret, frame = cap.read()\n",
    "    \n",
    "    if ret == True:\n",
    "        out.write(frame)\n",
    "        \n",
    "        cv2.imshow(\"vid frame\", frame)\n",
    "        if cv2.waitKey(1) & 0xFF == ord('q'):\n",
    "            break\n",
    "    else:\n",
    "        break        \n",
    "        \n",
    "cap.release()\n",
    "out.release()\n",
    "cv2.destroyAllWindows()"
   ]
  },
  {
   "cell_type": "code",
   "execution_count": null,
   "id": "903bb357",
   "metadata": {},
   "outputs": [],
   "source": []
  }
 ],
 "metadata": {
  "kernelspec": {
   "display_name": "Python 3 (ipykernel)",
   "language": "python",
   "name": "python3"
  },
  "language_info": {
   "codemirror_mode": {
    "name": "ipython",
    "version": 3
   },
   "file_extension": ".py",
   "mimetype": "text/x-python",
   "name": "python",
   "nbconvert_exporter": "python",
   "pygments_lexer": "ipython3",
   "version": "3.7.13"
  }
 },
 "nbformat": 4,
 "nbformat_minor": 5
}
