{
 "cells": [
  {
   "cell_type": "code",
   "execution_count": 6,
   "id": "1584b446",
   "metadata": {},
   "outputs": [],
   "source": [
    "import cv2\n",
    "import matplotlib.pyplot as plt\n",
    "import numpy as np\n",
    "import os\n",
    "from pathlib import Path"
   ]
  },
  {
   "cell_type": "code",
   "execution_count": null,
   "id": "a53812c1",
   "metadata": {},
   "outputs": [],
   "source": [
    "cap = cv2.VideoCapture(0)\n",
    "\n",
    "while True:\n",
    "    # Capturing the frame\n",
    "    x, frame = cap.read()\n",
    "    \n",
    "    # fontScale\n",
    "    fontScale = 1\n",
    "\n",
    "    # Blue color in BGR\n",
    "    color = (255, 0, 0)\n",
    "\n",
    "    # Line thickness of 2 px\n",
    "    thickness = 2    \n",
    "    \n",
    "    # put text on image\n",
    "    font = cv2.FONT_ITALIC\n",
    "    predicted_class = \"Uday\" # << from your model\n",
    "#     print(x)\n",
    "#     print(frame.shape)\n",
    "    org = (frame.shape[0]//2,frame.shape[1]//2)\n",
    "    cv2.putText(frame, predicted_class, org, font, fontScale, color, thickness, font)\n",
    "    cv2.imshow\n",
    "    \n",
    "    if cv2.waitKey(1) & 0xFF == ord('q'):\n",
    "        break\n",
    "        \n",
    "cap.release()\n",
    "cv2.destroyAllWindows()"
   ]
  },
  {
   "cell_type": "code",
   "execution_count": null,
   "id": "2cbeb9f4",
   "metadata": {},
   "outputs": [],
   "source": []
  }
 ],
 "metadata": {
  "kernelspec": {
   "display_name": "Python 3 (ipykernel)",
   "language": "python",
   "name": "python3"
  },
  "language_info": {
   "codemirror_mode": {
    "name": "ipython",
    "version": 3
   },
   "file_extension": ".py",
   "mimetype": "text/x-python",
   "name": "python",
   "nbconvert_exporter": "python",
   "pygments_lexer": "ipython3",
   "version": "3.7.13"
  }
 },
 "nbformat": 4,
 "nbformat_minor": 5
}
